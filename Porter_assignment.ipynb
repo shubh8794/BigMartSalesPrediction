{
  "nbformat": 4,
  "nbformat_minor": 0,
  "metadata": {
    "colab": {
      "name": "Porter_assignment.ipynb",
      "version": "0.3.2",
      "provenance": [],
      "collapsed_sections": [],
      "include_colab_link": true
    },
    "kernelspec": {
      "name": "python3",
      "display_name": "Python 3"
    }
  },
  "cells": [
    {
      "cell_type": "markdown",
      "metadata": {
        "id": "view-in-github",
        "colab_type": "text"
      },
      "source": [
        "<a href=\"https://colab.research.google.com/github/shubh8794/BigMartSalesPrediction/blob/master/Porter_assignment.ipynb\" target=\"_parent\"><img src=\"https://colab.research.google.com/assets/colab-badge.svg\" alt=\"Open In Colab\"/></a>"
      ]
    },
    {
      "cell_type": "markdown",
      "metadata": {
        "id": "fXA8HH4Vhc8F",
        "colab_type": "text"
      },
      "source": [
        "# **Oolala Case Study**\n",
        "\n",
        "**Objective** : Validate the reliability of successful cab booking to the Airport.\n",
        "\n",
        "**Business Use Case** : Oolala, a cab aggregator service, has a problem statement which they want you to validate and provide an explanation backed by numbers. It is observed and reported that customers are not able to find cabs to go to the Airport as drivers are canceling airport trips. They want you to investigate if this is indeed true."
      ]
    },
    {
      "cell_type": "code",
      "metadata": {
        "id": "Y4eMStEIh7Yz",
        "colab_type": "code",
        "colab": {}
      },
      "source": [
        "#Importing the libraries\n",
        "import numpy as np\n",
        "import matplotlib.pyplot as plt\n",
        "import pandas as pd\n",
        "import seaborn as sns\n",
        "sns.set(style=\"white\")\n",
        "sns.set(style=\"whitegrid\", color_codes=True)\n",
        "        \n",
        "import warnings\n",
        "warnings.filterwarnings(\"ignore\")"
      ],
      "execution_count": 0,
      "outputs": []
    },
    {
      "cell_type": "code",
      "metadata": {
        "id": "VXfH1Jb9pFeG",
        "colab_type": "code",
        "outputId": "1b3e531c-9d1f-4a7f-effc-4a4b1d972e24",
        "colab": {
          "base_uri": "https://localhost:8080/",
          "height": 215
        }
      },
      "source": [
        "#Loading data\n",
        "cabs_data = pd.read_csv(\"Oolala Cabs Case Study - Sheet1.csv\")\n",
        "print(cabs_data.shape)\n",
        "cabs_data.head()"
      ],
      "execution_count": 0,
      "outputs": [
        {
          "output_type": "stream",
          "text": [
            "(20205, 11)\n"
          ],
          "name": "stdout"
        },
        {
          "output_type": "execute_result",
          "data": {
            "text/html": [
              "<div>\n",
              "<style scoped>\n",
              "    .dataframe tbody tr th:only-of-type {\n",
              "        vertical-align: middle;\n",
              "    }\n",
              "\n",
              "    .dataframe tbody tr th {\n",
              "        vertical-align: top;\n",
              "    }\n",
              "\n",
              "    .dataframe thead th {\n",
              "        text-align: right;\n",
              "    }\n",
              "</style>\n",
              "<table border=\"1\" class=\"dataframe\">\n",
              "  <thead>\n",
              "    <tr style=\"text-align: right;\">\n",
              "      <th></th>\n",
              "      <th>order_id</th>\n",
              "      <th>status</th>\n",
              "      <th>customer_id</th>\n",
              "      <th>driver_id</th>\n",
              "      <th>pickup_time</th>\n",
              "      <th>start_time</th>\n",
              "      <th>drop_time</th>\n",
              "      <th>pickup_loc</th>\n",
              "      <th>drop_loc</th>\n",
              "      <th>travel_distance</th>\n",
              "      <th>cancelled_by</th>\n",
              "    </tr>\n",
              "  </thead>\n",
              "  <tbody>\n",
              "    <tr>\n",
              "      <th>0</th>\n",
              "      <td>4824156</td>\n",
              "      <td>4</td>\n",
              "      <td>305169</td>\n",
              "      <td>10.0</td>\n",
              "      <td>1/2/19 13:10</td>\n",
              "      <td>1/2/19 13:32</td>\n",
              "      <td>1/2/19 14:04</td>\n",
              "      <td>Andheri West</td>\n",
              "      <td>Juhu</td>\n",
              "      <td>1.70</td>\n",
              "      <td>NaN</td>\n",
              "    </tr>\n",
              "    <tr>\n",
              "      <th>1</th>\n",
              "      <td>4826642</td>\n",
              "      <td>4</td>\n",
              "      <td>498734</td>\n",
              "      <td>10.0</td>\n",
              "      <td>1/2/19 16:45</td>\n",
              "      <td>1/2/19 17:01</td>\n",
              "      <td>1/2/19 21:08</td>\n",
              "      <td>Andheri East</td>\n",
              "      <td>Kalyan</td>\n",
              "      <td>47.03</td>\n",
              "      <td>NaN</td>\n",
              "    </tr>\n",
              "    <tr>\n",
              "      <th>2</th>\n",
              "      <td>4830467</td>\n",
              "      <td>4</td>\n",
              "      <td>125080</td>\n",
              "      <td>10.0</td>\n",
              "      <td>1/3/19 11:25</td>\n",
              "      <td>1/3/19 11:30</td>\n",
              "      <td>1/3/19 13:02</td>\n",
              "      <td>Andheri West</td>\n",
              "      <td>Bandra West</td>\n",
              "      <td>7.93</td>\n",
              "      <td>NaN</td>\n",
              "    </tr>\n",
              "    <tr>\n",
              "      <th>3</th>\n",
              "      <td>4832599</td>\n",
              "      <td>4</td>\n",
              "      <td>107008</td>\n",
              "      <td>10.0</td>\n",
              "      <td>1/3/19 14:50</td>\n",
              "      <td>1/3/19 14:37</td>\n",
              "      <td>1/3/19 15:09</td>\n",
              "      <td>Juhu</td>\n",
              "      <td>Jogeshwari West</td>\n",
              "      <td>6.35</td>\n",
              "      <td>NaN</td>\n",
              "    </tr>\n",
              "    <tr>\n",
              "      <th>4</th>\n",
              "      <td>4833444</td>\n",
              "      <td>4</td>\n",
              "      <td>278997</td>\n",
              "      <td>10.0</td>\n",
              "      <td>1/3/19 15:36</td>\n",
              "      <td>1/3/19 15:42</td>\n",
              "      <td>1/3/19 17:29</td>\n",
              "      <td>Jogeshwari West</td>\n",
              "      <td>Saki Naka</td>\n",
              "      <td>8.48</td>\n",
              "      <td>NaN</td>\n",
              "    </tr>\n",
              "  </tbody>\n",
              "</table>\n",
              "</div>"
            ],
            "text/plain": [
              "   order_id  status  customer_id  ...         drop_loc travel_distance cancelled_by\n",
              "0   4824156       4       305169  ...             Juhu            1.70          NaN\n",
              "1   4826642       4       498734  ...           Kalyan           47.03          NaN\n",
              "2   4830467       4       125080  ...      Bandra West            7.93          NaN\n",
              "3   4832599       4       107008  ...  Jogeshwari West            6.35          NaN\n",
              "4   4833444       4       278997  ...        Saki Naka            8.48          NaN\n",
              "\n",
              "[5 rows x 11 columns]"
            ]
          },
          "metadata": {
            "tags": []
          },
          "execution_count": 23
        }
      ]
    },
    {
      "cell_type": "code",
      "metadata": {
        "id": "nVA8p6u_tWmm",
        "colab_type": "code",
        "outputId": "d0aa6b90-5539-4f55-9c51-cbd0138e4a95",
        "colab": {
          "base_uri": "https://localhost:8080/",
          "height": 34
        }
      },
      "source": [
        "#Eliminating duplicates records\n",
        "cabs_data = cabs_data.drop_duplicates().reset_index(drop=True)\n",
        "cabs_data.shape"
      ],
      "execution_count": 0,
      "outputs": [
        {
          "output_type": "execute_result",
          "data": {
            "text/plain": [
              "(20168, 11)"
            ]
          },
          "metadata": {
            "tags": []
          },
          "execution_count": 24
        }
      ]
    },
    {
      "cell_type": "markdown",
      "metadata": {
        "id": "vVcAE5ZavhmV",
        "colab_type": "text"
      },
      "source": [
        "Before moving forward we need to divide the data into cancelled trips and completed trips and then analyse them together"
      ]
    },
    {
      "cell_type": "code",
      "metadata": {
        "id": "sSxLB1d_vQB0",
        "colab_type": "code",
        "outputId": "9223727a-3516-4c75-85e5-0b873358833b",
        "colab": {
          "base_uri": "https://localhost:8080/",
          "height": 34
        }
      },
      "source": [
        "# get cancelled rides data\n",
        "cancelled_trips = cabs_data[cabs_data['status'] == 5]\n",
        "cancelled_trips.head()\n",
        "cancelled_trips.shape"
      ],
      "execution_count": 0,
      "outputs": [
        {
          "output_type": "execute_result",
          "data": {
            "text/plain": [
              "(4553, 11)"
            ]
          },
          "metadata": {
            "tags": []
          },
          "execution_count": 25
        }
      ]
    },
    {
      "cell_type": "code",
      "metadata": {
        "id": "Ht9JPnBhAc5V",
        "colab_type": "code",
        "outputId": "865ee18d-365e-49f7-8e71-69645c72ae68",
        "colab": {
          "base_uri": "https://localhost:8080/",
          "height": 34
        }
      },
      "source": [
        "# get completed rides data\n",
        "completed_trips = cabs_data[cabs_data['status'] == 4]\n",
        "completed_trips.head()\n",
        "completed_trips.shape"
      ],
      "execution_count": 0,
      "outputs": [
        {
          "output_type": "execute_result",
          "data": {
            "text/plain": [
              "(15615, 11)"
            ]
          },
          "metadata": {
            "tags": []
          },
          "execution_count": 26
        }
      ]
    },
    {
      "cell_type": "code",
      "metadata": {
        "id": "6CXa6l6UArqg",
        "colab_type": "code",
        "outputId": "4840ca68-753e-4b8c-c90f-2131c6b8fe5c",
        "colab": {
          "base_uri": "https://localhost:8080/",
          "height": 197
        }
      },
      "source": [
        "cancelled_trips.head()"
      ],
      "execution_count": 0,
      "outputs": [
        {
          "output_type": "execute_result",
          "data": {
            "text/html": [
              "<div>\n",
              "<style scoped>\n",
              "    .dataframe tbody tr th:only-of-type {\n",
              "        vertical-align: middle;\n",
              "    }\n",
              "\n",
              "    .dataframe tbody tr th {\n",
              "        vertical-align: top;\n",
              "    }\n",
              "\n",
              "    .dataframe thead th {\n",
              "        text-align: right;\n",
              "    }\n",
              "</style>\n",
              "<table border=\"1\" class=\"dataframe\">\n",
              "  <thead>\n",
              "    <tr style=\"text-align: right;\">\n",
              "      <th></th>\n",
              "      <th>order_id</th>\n",
              "      <th>status</th>\n",
              "      <th>customer_id</th>\n",
              "      <th>driver_id</th>\n",
              "      <th>pickup_time</th>\n",
              "      <th>start_time</th>\n",
              "      <th>drop_time</th>\n",
              "      <th>pickup_loc</th>\n",
              "      <th>drop_loc</th>\n",
              "      <th>travel_distance</th>\n",
              "      <th>cancelled_by</th>\n",
              "    </tr>\n",
              "  </thead>\n",
              "  <tbody>\n",
              "    <tr>\n",
              "      <th>6</th>\n",
              "      <td>4844720</td>\n",
              "      <td>5</td>\n",
              "      <td>85188</td>\n",
              "      <td>10.0</td>\n",
              "      <td>1/5/19 10:50</td>\n",
              "      <td>NaN</td>\n",
              "      <td>NaN</td>\n",
              "      <td>Juhu</td>\n",
              "      <td>Churchgate</td>\n",
              "      <td>26.05</td>\n",
              "      <td>system_nodriver_accepted</td>\n",
              "    </tr>\n",
              "    <tr>\n",
              "      <th>10</th>\n",
              "      <td>4861999</td>\n",
              "      <td>5</td>\n",
              "      <td>306868</td>\n",
              "      <td>10.0</td>\n",
              "      <td>1/7/19 17:45</td>\n",
              "      <td>NaN</td>\n",
              "      <td>NaN</td>\n",
              "      <td>Goregaon West</td>\n",
              "      <td>Jogeshwari West</td>\n",
              "      <td>2.43</td>\n",
              "      <td>customer</td>\n",
              "    </tr>\n",
              "    <tr>\n",
              "      <th>12</th>\n",
              "      <td>4865604</td>\n",
              "      <td>5</td>\n",
              "      <td>460916</td>\n",
              "      <td>10.0</td>\n",
              "      <td>1/8/19 12:55</td>\n",
              "      <td>NaN</td>\n",
              "      <td>NaN</td>\n",
              "      <td>Jogeshwari West</td>\n",
              "      <td>Powai</td>\n",
              "      <td>7.34</td>\n",
              "      <td>driver</td>\n",
              "    </tr>\n",
              "    <tr>\n",
              "      <th>13</th>\n",
              "      <td>4868256</td>\n",
              "      <td>5</td>\n",
              "      <td>223853</td>\n",
              "      <td>10.0</td>\n",
              "      <td>1/8/19 17:00</td>\n",
              "      <td>NaN</td>\n",
              "      <td>NaN</td>\n",
              "      <td>Jogeshwari West</td>\n",
              "      <td>Aarey</td>\n",
              "      <td>3.54</td>\n",
              "      <td>customer</td>\n",
              "    </tr>\n",
              "    <tr>\n",
              "      <th>18</th>\n",
              "      <td>4885165</td>\n",
              "      <td>5</td>\n",
              "      <td>252522</td>\n",
              "      <td>10.0</td>\n",
              "      <td>1/10/19 18:17</td>\n",
              "      <td>NaN</td>\n",
              "      <td>NaN</td>\n",
              "      <td>Andheri West</td>\n",
              "      <td>Byculla</td>\n",
              "      <td>18.52</td>\n",
              "      <td>customer</td>\n",
              "    </tr>\n",
              "  </tbody>\n",
              "</table>\n",
              "</div>"
            ],
            "text/plain": [
              "    order_id  status  ...  travel_distance              cancelled_by\n",
              "6    4844720       5  ...            26.05  system_nodriver_accepted\n",
              "10   4861999       5  ...             2.43                  customer\n",
              "12   4865604       5  ...             7.34                    driver\n",
              "13   4868256       5  ...             3.54                  customer\n",
              "18   4885165       5  ...            18.52                  customer\n",
              "\n",
              "[5 rows x 11 columns]"
            ]
          },
          "metadata": {
            "tags": []
          },
          "execution_count": 27
        }
      ]
    },
    {
      "cell_type": "code",
      "metadata": {
        "id": "QGdu3-7XbObc",
        "colab_type": "code",
        "outputId": "a994af39-9e49-416b-f6e4-44437f56452e",
        "colab": {
          "base_uri": "https://localhost:8080/",
          "height": 197
        }
      },
      "source": [
        "completed_trips.head()"
      ],
      "execution_count": 0,
      "outputs": [
        {
          "output_type": "execute_result",
          "data": {
            "text/html": [
              "<div>\n",
              "<style scoped>\n",
              "    .dataframe tbody tr th:only-of-type {\n",
              "        vertical-align: middle;\n",
              "    }\n",
              "\n",
              "    .dataframe tbody tr th {\n",
              "        vertical-align: top;\n",
              "    }\n",
              "\n",
              "    .dataframe thead th {\n",
              "        text-align: right;\n",
              "    }\n",
              "</style>\n",
              "<table border=\"1\" class=\"dataframe\">\n",
              "  <thead>\n",
              "    <tr style=\"text-align: right;\">\n",
              "      <th></th>\n",
              "      <th>order_id</th>\n",
              "      <th>status</th>\n",
              "      <th>customer_id</th>\n",
              "      <th>driver_id</th>\n",
              "      <th>pickup_time</th>\n",
              "      <th>start_time</th>\n",
              "      <th>drop_time</th>\n",
              "      <th>pickup_loc</th>\n",
              "      <th>drop_loc</th>\n",
              "      <th>travel_distance</th>\n",
              "      <th>cancelled_by</th>\n",
              "    </tr>\n",
              "  </thead>\n",
              "  <tbody>\n",
              "    <tr>\n",
              "      <th>0</th>\n",
              "      <td>4824156</td>\n",
              "      <td>4</td>\n",
              "      <td>305169</td>\n",
              "      <td>10.0</td>\n",
              "      <td>1/2/19 13:10</td>\n",
              "      <td>1/2/19 13:32</td>\n",
              "      <td>1/2/19 14:04</td>\n",
              "      <td>Andheri West</td>\n",
              "      <td>Juhu</td>\n",
              "      <td>1.70</td>\n",
              "      <td>NaN</td>\n",
              "    </tr>\n",
              "    <tr>\n",
              "      <th>1</th>\n",
              "      <td>4826642</td>\n",
              "      <td>4</td>\n",
              "      <td>498734</td>\n",
              "      <td>10.0</td>\n",
              "      <td>1/2/19 16:45</td>\n",
              "      <td>1/2/19 17:01</td>\n",
              "      <td>1/2/19 21:08</td>\n",
              "      <td>Andheri East</td>\n",
              "      <td>Kalyan</td>\n",
              "      <td>47.03</td>\n",
              "      <td>NaN</td>\n",
              "    </tr>\n",
              "    <tr>\n",
              "      <th>2</th>\n",
              "      <td>4830467</td>\n",
              "      <td>4</td>\n",
              "      <td>125080</td>\n",
              "      <td>10.0</td>\n",
              "      <td>1/3/19 11:25</td>\n",
              "      <td>1/3/19 11:30</td>\n",
              "      <td>1/3/19 13:02</td>\n",
              "      <td>Andheri West</td>\n",
              "      <td>Bandra West</td>\n",
              "      <td>7.93</td>\n",
              "      <td>NaN</td>\n",
              "    </tr>\n",
              "    <tr>\n",
              "      <th>3</th>\n",
              "      <td>4832599</td>\n",
              "      <td>4</td>\n",
              "      <td>107008</td>\n",
              "      <td>10.0</td>\n",
              "      <td>1/3/19 14:50</td>\n",
              "      <td>1/3/19 14:37</td>\n",
              "      <td>1/3/19 15:09</td>\n",
              "      <td>Juhu</td>\n",
              "      <td>Jogeshwari West</td>\n",
              "      <td>6.35</td>\n",
              "      <td>NaN</td>\n",
              "    </tr>\n",
              "    <tr>\n",
              "      <th>4</th>\n",
              "      <td>4833444</td>\n",
              "      <td>4</td>\n",
              "      <td>278997</td>\n",
              "      <td>10.0</td>\n",
              "      <td>1/3/19 15:36</td>\n",
              "      <td>1/3/19 15:42</td>\n",
              "      <td>1/3/19 17:29</td>\n",
              "      <td>Jogeshwari West</td>\n",
              "      <td>Saki Naka</td>\n",
              "      <td>8.48</td>\n",
              "      <td>NaN</td>\n",
              "    </tr>\n",
              "  </tbody>\n",
              "</table>\n",
              "</div>"
            ],
            "text/plain": [
              "   order_id  status  customer_id  ...         drop_loc travel_distance cancelled_by\n",
              "0   4824156       4       305169  ...             Juhu            1.70          NaN\n",
              "1   4826642       4       498734  ...           Kalyan           47.03          NaN\n",
              "2   4830467       4       125080  ...      Bandra West            7.93          NaN\n",
              "3   4832599       4       107008  ...  Jogeshwari West            6.35          NaN\n",
              "4   4833444       4       278997  ...        Saki Naka            8.48          NaN\n",
              "\n",
              "[5 rows x 11 columns]"
            ]
          },
          "metadata": {
            "tags": []
          },
          "execution_count": 28
        }
      ]
    },
    {
      "cell_type": "markdown",
      "metadata": {
        "id": "AlJX_kypOlKU",
        "colab_type": "text"
      },
      "source": [
        "**Factors to be considered**:\n",
        "\n",
        "1. Most of the trips cancelled are for a particular route.\n",
        "2. Cabs booked for larger distances are mostly cancelled by drivers.\n",
        "3. There might be some outlier (particular customer or driver cancelled the most rides)\n",
        "4. Rides not accepted by drivers from particular location frequently.\n",
        "5. Cabs cancelled mostly during certain time interval."
      ]
    },
    {
      "cell_type": "code",
      "metadata": {
        "id": "tk877yOeNe3y",
        "colab_type": "code",
        "outputId": "48809f04-3c36-44e3-fcf9-515ccf9847ab",
        "colab": {
          "base_uri": "https://localhost:8080/",
          "height": 332
        }
      },
      "source": [
        "cancelled_trips['cancelled_by'].value_counts().plot.pie(y='cancelled_by', figsize=(5, 5), autopct='%1.1f%%')"
      ],
      "execution_count": 0,
      "outputs": [
        {
          "output_type": "execute_result",
          "data": {
            "text/plain": [
              "<matplotlib.axes._subplots.AxesSubplot at 0x7f8cde505e48>"
            ]
          },
          "metadata": {
            "tags": []
          },
          "execution_count": 29
        },
        {
          "output_type": "display_data",
          "data": {
            "image/png": "[encoded data removed]",
            "text/plain": [
              "<Figure size 360x360 with 1 Axes>"
            ]
          },
          "metadata": {
            "tags": []
          }
        }
      ]
    },
    {
      "cell_type": "markdown",
      "metadata": {
        "id": "Rqhjl27so8Ck",
        "colab_type": "text"
      },
      "source": [
        "From the above plot we can say that mostly rides are cancelled by customers."
      ]
    },
    {
      "cell_type": "code",
      "metadata": {
        "id": "7K7KG8eZN8CL",
        "colab_type": "code",
        "outputId": "80caf2a8-245d-4e58-d461-48e078c97aab",
        "colab": {
          "base_uri": "https://localhost:8080/",
          "height": 310
        }
      },
      "source": [
        "sns.countplot(x=\"cancelled_by\", data= cancelled_trips)"
      ],
      "execution_count": 0,
      "outputs": [
        {
          "output_type": "execute_result",
          "data": {
            "text/plain": [
              "<matplotlib.axes._subplots.AxesSubplot at 0x7f8cde1e8a58>"
            ]
          },
          "metadata": {
            "tags": []
          },
          "execution_count": 30
        },
        {
          "output_type": "display_data",
          "data": {
            "image/png": "[encoded data removed]",
            "text/plain": [
              "<Figure size 432x288 with 1 Axes>"
            ]
          },
          "metadata": {
            "tags": []
          }
        }
      ]
    },
    {
      "cell_type": "code",
      "metadata": {
        "id": "MZN4-VHSb4Yu",
        "colab_type": "code",
        "outputId": "fab8a05f-0057-4295-edcc-cdcbb3fa5a3c",
        "colab": {
          "base_uri": "https://localhost:8080/",
          "height": 197
        }
      },
      "source": [
        "cancelled_trips['time'] = cancelled_trips['pickup_time'].apply(lambda x : x.split(' ')[-1])\n",
        "cancelled_trips['date'] = cancelled_trips['pickup_time'].apply(lambda x : x.split(' ')[0])\n",
        "cancelled_trips.head()"
      ],
      "execution_count": 0,
      "outputs": [
        {
          "output_type": "execute_result",
          "data": {
            "text/html": [
              "<div>\n",
              "<style scoped>\n",
              "    .dataframe tbody tr th:only-of-type {\n",
              "        vertical-align: middle;\n",
              "    }\n",
              "\n",
              "    .dataframe tbody tr th {\n",
              "        vertical-align: top;\n",
              "    }\n",
              "\n",
              "    .dataframe thead th {\n",
              "        text-align: right;\n",
              "    }\n",
              "</style>\n",
              "<table border=\"1\" class=\"dataframe\">\n",
              "  <thead>\n",
              "    <tr style=\"text-align: right;\">\n",
              "      <th></th>\n",
              "      <th>order_id</th>\n",
              "      <th>status</th>\n",
              "      <th>customer_id</th>\n",
              "      <th>driver_id</th>\n",
              "      <th>pickup_time</th>\n",
              "      <th>start_time</th>\n",
              "      <th>drop_time</th>\n",
              "      <th>pickup_loc</th>\n",
              "      <th>drop_loc</th>\n",
              "      <th>travel_distance</th>\n",
              "      <th>cancelled_by</th>\n",
              "      <th>time</th>\n",
              "      <th>date</th>\n",
              "    </tr>\n",
              "  </thead>\n",
              "  <tbody>\n",
              "    <tr>\n",
              "      <th>6</th>\n",
              "      <td>4844720</td>\n",
              "      <td>5</td>\n",
              "      <td>85188</td>\n",
              "      <td>10.0</td>\n",
              "      <td>1/5/19 10:50</td>\n",
              "      <td>NaN</td>\n",
              "      <td>NaN</td>\n",
              "      <td>Juhu</td>\n",
              "      <td>Churchgate</td>\n",
              "      <td>26.05</td>\n",
              "      <td>system_nodriver_accepted</td>\n",
              "      <td>10:50</td>\n",
              "      <td>1/5/19</td>\n",
              "    </tr>\n",
              "    <tr>\n",
              "      <th>10</th>\n",
              "      <td>4861999</td>\n",
              "      <td>5</td>\n",
              "      <td>306868</td>\n",
              "      <td>10.0</td>\n",
              "      <td>1/7/19 17:45</td>\n",
              "      <td>NaN</td>\n",
              "      <td>NaN</td>\n",
              "      <td>Goregaon West</td>\n",
              "      <td>Jogeshwari West</td>\n",
              "      <td>2.43</td>\n",
              "      <td>customer</td>\n",
              "      <td>17:45</td>\n",
              "      <td>1/7/19</td>\n",
              "    </tr>\n",
              "    <tr>\n",
              "      <th>12</th>\n",
              "      <td>4865604</td>\n",
              "      <td>5</td>\n",
              "      <td>460916</td>\n",
              "      <td>10.0</td>\n",
              "      <td>1/8/19 12:55</td>\n",
              "      <td>NaN</td>\n",
              "      <td>NaN</td>\n",
              "      <td>Jogeshwari West</td>\n",
              "      <td>Powai</td>\n",
              "      <td>7.34</td>\n",
              "      <td>driver</td>\n",
              "      <td>12:55</td>\n",
              "      <td>1/8/19</td>\n",
              "    </tr>\n",
              "    <tr>\n",
              "      <th>13</th>\n",
              "      <td>4868256</td>\n",
              "      <td>5</td>\n",
              "      <td>223853</td>\n",
              "      <td>10.0</td>\n",
              "      <td>1/8/19 17:00</td>\n",
              "      <td>NaN</td>\n",
              "      <td>NaN</td>\n",
              "      <td>Jogeshwari West</td>\n",
              "      <td>Aarey</td>\n",
              "      <td>3.54</td>\n",
              "      <td>customer</td>\n",
              "      <td>17:00</td>\n",
              "      <td>1/8/19</td>\n",
              "    </tr>\n",
              "    <tr>\n",
              "      <th>18</th>\n",
              "      <td>4885165</td>\n",
              "      <td>5</td>\n",
              "      <td>252522</td>\n",
              "      <td>10.0</td>\n",
              "      <td>1/10/19 18:17</td>\n",
              "      <td>NaN</td>\n",
              "      <td>NaN</td>\n",
              "      <td>Andheri West</td>\n",
              "      <td>Byculla</td>\n",
              "      <td>18.52</td>\n",
              "      <td>customer</td>\n",
              "      <td>18:17</td>\n",
              "      <td>1/10/19</td>\n",
              "    </tr>\n",
              "  </tbody>\n",
              "</table>\n",
              "</div>"
            ],
            "text/plain": [
              "    order_id  status  customer_id  ...              cancelled_by   time     date\n",
              "6    4844720       5        85188  ...  system_nodriver_accepted  10:50   1/5/19\n",
              "10   4861999       5       306868  ...                  customer  17:45   1/7/19\n",
              "12   4865604       5       460916  ...                    driver  12:55   1/8/19\n",
              "13   4868256       5       223853  ...                  customer  17:00   1/8/19\n",
              "18   4885165       5       252522  ...                  customer  18:17  1/10/19\n",
              "\n",
              "[5 rows x 13 columns]"
            ]
          },
          "metadata": {
            "tags": []
          },
          "execution_count": 31
        }
      ]
    },
    {
      "cell_type": "code",
      "metadata": {
        "id": "2V8LZvzRRWCq",
        "colab_type": "code",
        "outputId": "b21d4ff6-985f-4dc3-8384-964450042bb7",
        "colab": {
          "base_uri": "https://localhost:8080/",
          "height": 197
        }
      },
      "source": [
        "completed_trips['time'] = completed_trips['start_time'].apply(lambda x : x.split(' ')[-1])\n",
        "completed_trips['date'] = completed_trips['start_time'].apply(lambda x : x.split(' ')[0])\n",
        "completed_trips.head()"
      ],
      "execution_count": 0,
      "outputs": [
        {
          "output_type": "execute_result",
          "data": {
            "text/html": [
              "<div>\n",
              "<style scoped>\n",
              "    .dataframe tbody tr th:only-of-type {\n",
              "        vertical-align: middle;\n",
              "    }\n",
              "\n",
              "    .dataframe tbody tr th {\n",
              "        vertical-align: top;\n",
              "    }\n",
              "\n",
              "    .dataframe thead th {\n",
              "        text-align: right;\n",
              "    }\n",
              "</style>\n",
              "<table border=\"1\" class=\"dataframe\">\n",
              "  <thead>\n",
              "    <tr style=\"text-align: right;\">\n",
              "      <th></th>\n",
              "      <th>order_id</th>\n",
              "      <th>status</th>\n",
              "      <th>customer_id</th>\n",
              "      <th>driver_id</th>\n",
              "      <th>pickup_time</th>\n",
              "      <th>start_time</th>\n",
              "      <th>drop_time</th>\n",
              "      <th>pickup_loc</th>\n",
              "      <th>drop_loc</th>\n",
              "      <th>travel_distance</th>\n",
              "      <th>cancelled_by</th>\n",
              "      <th>time</th>\n",
              "      <th>date</th>\n",
              "    </tr>\n",
              "  </thead>\n",
              "  <tbody>\n",
              "    <tr>\n",
              "      <th>0</th>\n",
              "      <td>4824156</td>\n",
              "      <td>4</td>\n",
              "      <td>305169</td>\n",
              "      <td>10.0</td>\n",
              "      <td>1/2/19 13:10</td>\n",
              "      <td>1/2/19 13:32</td>\n",
              "      <td>1/2/19 14:04</td>\n",
              "      <td>Andheri West</td>\n",
              "      <td>Juhu</td>\n",
              "      <td>1.70</td>\n",
              "      <td>NaN</td>\n",
              "      <td>13:32</td>\n",
              "      <td>1/2/19</td>\n",
              "    </tr>\n",
              "    <tr>\n",
              "      <th>1</th>\n",
              "      <td>4826642</td>\n",
              "      <td>4</td>\n",
              "      <td>498734</td>\n",
              "      <td>10.0</td>\n",
              "      <td>1/2/19 16:45</td>\n",
              "      <td>1/2/19 17:01</td>\n",
              "      <td>1/2/19 21:08</td>\n",
              "      <td>Andheri East</td>\n",
              "      <td>Kalyan</td>\n",
              "      <td>47.03</td>\n",
              "      <td>NaN</td>\n",
              "      <td>17:01</td>\n",
              "      <td>1/2/19</td>\n",
              "    </tr>\n",
              "    <tr>\n",
              "      <th>2</th>\n",
              "      <td>4830467</td>\n",
              "      <td>4</td>\n",
              "      <td>125080</td>\n",
              "      <td>10.0</td>\n",
              "      <td>1/3/19 11:25</td>\n",
              "      <td>1/3/19 11:30</td>\n",
              "      <td>1/3/19 13:02</td>\n",
              "      <td>Andheri West</td>\n",
              "      <td>Bandra West</td>\n",
              "      <td>7.93</td>\n",
              "      <td>NaN</td>\n",
              "      <td>11:30</td>\n",
              "      <td>1/3/19</td>\n",
              "    </tr>\n",
              "    <tr>\n",
              "      <th>3</th>\n",
              "      <td>4832599</td>\n",
              "      <td>4</td>\n",
              "      <td>107008</td>\n",
              "      <td>10.0</td>\n",
              "      <td>1/3/19 14:50</td>\n",
              "      <td>1/3/19 14:37</td>\n",
              "      <td>1/3/19 15:09</td>\n",
              "      <td>Juhu</td>\n",
              "      <td>Jogeshwari West</td>\n",
              "      <td>6.35</td>\n",
              "      <td>NaN</td>\n",
              "      <td>14:37</td>\n",
              "      <td>1/3/19</td>\n",
              "    </tr>\n",
              "    <tr>\n",
              "      <th>4</th>\n",
              "      <td>4833444</td>\n",
              "      <td>4</td>\n",
              "      <td>278997</td>\n",
              "      <td>10.0</td>\n",
              "      <td>1/3/19 15:36</td>\n",
              "      <td>1/3/19 15:42</td>\n",
              "      <td>1/3/19 17:29</td>\n",
              "      <td>Jogeshwari West</td>\n",
              "      <td>Saki Naka</td>\n",
              "      <td>8.48</td>\n",
              "      <td>NaN</td>\n",
              "      <td>15:42</td>\n",
              "      <td>1/3/19</td>\n",
              "    </tr>\n",
              "  </tbody>\n",
              "</table>\n",
              "</div>"
            ],
            "text/plain": [
              "   order_id  status  customer_id  ...  cancelled_by   time    date\n",
              "0   4824156       4       305169  ...           NaN  13:32  1/2/19\n",
              "1   4826642       4       498734  ...           NaN  17:01  1/2/19\n",
              "2   4830467       4       125080  ...           NaN  11:30  1/3/19\n",
              "3   4832599       4       107008  ...           NaN  14:37  1/3/19\n",
              "4   4833444       4       278997  ...           NaN  15:42  1/3/19\n",
              "\n",
              "[5 rows x 13 columns]"
            ]
          },
          "metadata": {
            "tags": []
          },
          "execution_count": 32
        }
      ]
    },
    {
      "cell_type": "code",
      "metadata": {
        "id": "NGpOg9tUoZIX",
        "colab_type": "code",
        "colab": {
          "base_uri": "https://localhost:8080/",
          "height": 332
        },
        "outputId": "777972b3-98a7-4b32-aa2c-8105b09c5936"
      },
      "source": [
        "# Cancellation distribution for airport trips\n",
        "cancelled_trips[cancelled_trips['drop_loc'] == \"Airport\"]['cancelled_by'].value_counts().plot.pie(y='cancelled_by', shadow = True, figsize=(5, 5), autopct='%1.1f%%')"
      ],
      "execution_count": 113,
      "outputs": [
        {
          "output_type": "execute_result",
          "data": {
            "text/plain": [
              "<matplotlib.axes._subplots.AxesSubplot at 0x7f8cdbd841d0>"
            ]
          },
          "metadata": {
            "tags": []
          },
          "execution_count": 113
        },
        {
          "output_type": "display_data",
          "data": {
            "image/png": "[encoded data removed]",
            "text/plain": [
              "<Figure size 360x360 with 1 Axes>"
            ]
          },
          "metadata": {
            "tags": []
          }
        }
      ]
    },
    {
      "cell_type": "markdown",
      "metadata": {
        "id": "ZHTpIN3LouNF",
        "colab_type": "text"
      },
      "source": [
        "From the above plot we can say that most of the rides for **Airport** are cancelled by drivers or due to unavailability of cabs."
      ]
    },
    {
      "cell_type": "code",
      "metadata": {
        "id": "Rmuxqx2sraNY",
        "colab_type": "code",
        "colab": {
          "base_uri": "https://localhost:8080/",
          "height": 332
        },
        "outputId": "3972787d-78cc-4c9b-c6b0-23ff827c22a3"
      },
      "source": [
        "# Cancellation distribution for trips other than airport\n",
        "cancelled_trips[cancelled_trips['drop_loc'] != \"Airport\"]['cancelled_by'].value_counts().plot.pie(y='cancelled_by', shadow = True, figsize=(5, 5), autopct='%1.1f%%')"
      ],
      "execution_count": 114,
      "outputs": [
        {
          "output_type": "execute_result",
          "data": {
            "text/plain": [
              "<matplotlib.axes._subplots.AxesSubplot at 0x7f8cdbdc3be0>"
            ]
          },
          "metadata": {
            "tags": []
          },
          "execution_count": 114
        },
        {
          "output_type": "display_data",
          "data": {
            "image/png": "[encoded data removed]",
            "text/plain": [
              "<Figure size 360x360 with 1 Axes>"
            ]
          },
          "metadata": {
            "tags": []
          }
        }
      ]
    },
    {
      "cell_type": "code",
      "metadata": {
        "id": "6yVZ1PNPqu74",
        "colab_type": "code",
        "colab": {
          "base_uri": "https://localhost:8080/",
          "height": 34
        },
        "outputId": "02c7f338-254a-4319-8067-5cb1b1b1cd7f"
      },
      "source": [
        "cancelled_trips['travel_distance'].median()"
      ],
      "execution_count": 63,
      "outputs": [
        {
          "output_type": "execute_result",
          "data": {
            "text/plain": [
              "14.81"
            ]
          },
          "metadata": {
            "tags": []
          },
          "execution_count": 63
        }
      ]
    },
    {
      "cell_type": "code",
      "metadata": {
        "id": "nsS6E-OmpmNN",
        "colab_type": "code",
        "colab": {
          "base_uri": "https://localhost:8080/",
          "height": 105
        },
        "outputId": "7bf25ca5-c104-42fe-9dc1-f771d0b4e27b"
      },
      "source": [
        "cancelled_rides_to_airport = cancelled_trips[cancelled_trips['drop_loc'] == \"Airport\"]\n",
        "cancelled_rides_to_airport.groupby(['cancelled_by'])['travel_distance'].median()\n"
      ],
      "execution_count": 65,
      "outputs": [
        {
          "output_type": "execute_result",
          "data": {
            "text/plain": [
              "cancelled_by\n",
              "customer                    18.105\n",
              "driver                      38.205\n",
              "system_nodriver_accepted     9.935\n",
              "Name: travel_distance, dtype: float64"
            ]
          },
          "metadata": {
            "tags": []
          },
          "execution_count": 65
        }
      ]
    },
    {
      "cell_type": "markdown",
      "metadata": {
        "id": "pyu7XpXpsIIA",
        "colab_type": "text"
      },
      "source": [
        "From the data above we can say that drivers cancelled the rides for airport due to large travel distance but we need to analyse is there any particular time that contributed most to it or any particular day or any particular driver before reaching to conclusion."
      ]
    },
    {
      "cell_type": "code",
      "metadata": {
        "id": "7IwIyX1frxdw",
        "colab_type": "code",
        "colab": {
          "base_uri": "https://localhost:8080/",
          "height": 137
        },
        "outputId": "5e68a1df-b68b-43b5-928a-b592ef553c6c"
      },
      "source": [
        "cancelled_trips[cancelled_trips['drop_loc'] != \"Airport\"].groupby(['cancelled_by'])['travel_distance'].mean().reset_index()"
      ],
      "execution_count": 115,
      "outputs": [
        {
          "output_type": "execute_result",
          "data": {
            "text/html": [
              "<div>\n",
              "<style scoped>\n",
              "    .dataframe tbody tr th:only-of-type {\n",
              "        vertical-align: middle;\n",
              "    }\n",
              "\n",
              "    .dataframe tbody tr th {\n",
              "        vertical-align: top;\n",
              "    }\n",
              "\n",
              "    .dataframe thead th {\n",
              "        text-align: right;\n",
              "    }\n",
              "</style>\n",
              "<table border=\"1\" class=\"dataframe\">\n",
              "  <thead>\n",
              "    <tr style=\"text-align: right;\">\n",
              "      <th></th>\n",
              "      <th>cancelled_by</th>\n",
              "      <th>travel_distance</th>\n",
              "    </tr>\n",
              "  </thead>\n",
              "  <tbody>\n",
              "    <tr>\n",
              "      <th>0</th>\n",
              "      <td>customer</td>\n",
              "      <td>16.585970</td>\n",
              "    </tr>\n",
              "    <tr>\n",
              "      <th>1</th>\n",
              "      <td>driver</td>\n",
              "      <td>14.732480</td>\n",
              "    </tr>\n",
              "    <tr>\n",
              "      <th>2</th>\n",
              "      <td>system_nodriver_accepted</td>\n",
              "      <td>21.825313</td>\n",
              "    </tr>\n",
              "  </tbody>\n",
              "</table>\n",
              "</div>"
            ],
            "text/plain": [
              "               cancelled_by  travel_distance\n",
              "0                  customer        16.585970\n",
              "1                    driver        14.732480\n",
              "2  system_nodriver_accepted        21.825313"
            ]
          },
          "metadata": {
            "tags": []
          },
          "execution_count": 115
        }
      ]
    },
    {
      "cell_type": "markdown",
      "metadata": {
        "id": "Gm-JtZcgsCSM",
        "colab_type": "text"
      },
      "source": [
        "For the trips other than Airport most of the trips are cancelled by customers and travel distance is also not large in this case. So there is no a pattern observed here. "
      ]
    },
    {
      "cell_type": "code",
      "metadata": {
        "id": "jZgY_90pOcMn",
        "colab_type": "code",
        "outputId": "6c779e1a-086b-4565-f722-0a6c318331de",
        "colab": {
          "base_uri": "https://localhost:8080/",
          "height": 340
        }
      },
      "source": [
        "# Exploring cancellation of rides on different date\n",
        "date_wise_cancelled_trips = cancelled_trips.groupby(['date', 'cancelled_by'])['order_id'].count().reset_index()\n",
        "df1= date_wise_cancelled_trips.pivot(columns='cancelled_by',index='date')\n",
        "df1.plot(kind='bar',stacked=True,legend= True)"
      ],
      "execution_count": 0,
      "outputs": [
        {
          "output_type": "execute_result",
          "data": {
            "text/plain": [
              "<matplotlib.axes._subplots.AxesSubplot at 0x7f8cdc8540b8>"
            ]
          },
          "metadata": {
            "tags": []
          },
          "execution_count": 33
        },
        {
          "output_type": "display_data",
          "data": {
            "image/png": "[encoded data removed]",
            "text/plain": [
              "<Figure size 432x288 with 1 Axes>"
            ]
          },
          "metadata": {
            "tags": []
          }
        }
      ]
    },
    {
      "cell_type": "markdown",
      "metadata": {
        "id": "TWqwPfGlYHUQ",
        "colab_type": "text"
      },
      "source": [
        "From the above plot we can conclude that none of the above days going against the pattern. Every day customers, drivers and system_nodriver_accepted have significant contribution to the number of cancellation of rides. "
      ]
    },
    {
      "cell_type": "code",
      "metadata": {
        "id": "C2oRVmfmtaYU",
        "colab_type": "code",
        "colab": {
          "base_uri": "https://localhost:8080/",
          "height": 340
        },
        "outputId": "5a850f4f-42aa-462d-e67b-502a0aa2a4e3"
      },
      "source": [
        "# Exploring cancellation of rides on different date for airport\n",
        "date_wise_cancelled_trips_to_airport = cancelled_rides_to_airport.groupby(['date', 'cancelled_by'])['order_id'].count().reset_index()\n",
        "df1= date_wise_cancelled_trips_to_airport.pivot(columns='cancelled_by',index='date')\n",
        "df1.plot(kind='bar',stacked=True,legend= True)"
      ],
      "execution_count": 67,
      "outputs": [
        {
          "output_type": "execute_result",
          "data": {
            "text/plain": [
              "<matplotlib.axes._subplots.AxesSubplot at 0x7f8cdc4a1080>"
            ]
          },
          "metadata": {
            "tags": []
          },
          "execution_count": 67
        },
        {
          "output_type": "display_data",
          "data": {
            "image/png": "[encoded data removed]",
            "text/plain": [
              "<Figure size 432x288 with 1 Axes>"
            ]
          },
          "metadata": {
            "tags": []
          }
        }
      ]
    },
    {
      "cell_type": "markdown",
      "metadata": {
        "id": "rt2UNEMxuvii",
        "colab_type": "text"
      },
      "source": [
        "From the above plot we can say that everyday most of the rides to airport are cancelled by drivers irrespective of date."
      ]
    },
    {
      "cell_type": "code",
      "metadata": {
        "id": "-PoorC9oyRlY",
        "colab_type": "code",
        "colab": {
          "base_uri": "https://localhost:8080/",
          "height": 70
        },
        "outputId": "abd0f615-f587-4c49-b7e0-69817bde516f"
      },
      "source": [
        "print(\"Total cancelled rides to airport :\" + str(len(cancelled_rides_to_airport)))\n",
        "print(\"Maximum cancelled rides to airport by a sinlge driver :\" + str(cancelled_rides_to_airport.groupby(['driver_id'])['order_id'].count().max()))\n",
        "print(\"Maximum cancelled rides to airport by a single customer :\" + str(cancelled_rides_to_airport.groupby(['customer_id'])['order_id'].count().max()))"
      ],
      "execution_count": 79,
      "outputs": [
        {
          "output_type": "stream",
          "text": [
            "Total cancelled rides to airport :232\n",
            "Maximum cancelled rides to airport by a sinlge driver :2\n",
            "Maximum cancelled rides to airport by a single customer :5\n"
          ],
          "name": "stdout"
        }
      ]
    },
    {
      "cell_type": "markdown",
      "metadata": {
        "id": "wbZnLaVIzbin",
        "colab_type": "text"
      },
      "source": [
        "From the above data we can conclude that none of the driver is majorly responsible for cancellation of trips to Airport."
      ]
    },
    {
      "cell_type": "code",
      "metadata": {
        "id": "eEed5ePYmAEC",
        "colab_type": "code",
        "outputId": "768d3c30-7ff1-4d84-9d4c-62bd17a7d4aa",
        "colab": {
          "base_uri": "https://localhost:8080/",
          "height": 312
        }
      },
      "source": [
        "# Exploring cancellation of rides on different time\n",
        "cancelled_trips['hourly_time'] = cancelled_trips['time'].apply(lambda x : x.split(':')[0])\n",
        "cancelled_trips['hourly_time'] = cancelled_trips['hourly_time'].astype('int')\n",
        "time_wise_cancelled_trips = cancelled_trips.groupby(['hourly_time', 'cancelled_by'])['order_id'].count().reset_index()\n",
        "df2= time_wise_cancelled_trips.pivot(columns='cancelled_by',index='hourly_time')\n",
        "df2.plot(kind='bar',stacked=True, legend= False)"
      ],
      "execution_count": 0,
      "outputs": [
        {
          "output_type": "execute_result",
          "data": {
            "text/plain": [
              "<matplotlib.axes._subplots.AxesSubplot at 0x7f8cdc6e8080>"
            ]
          },
          "metadata": {
            "tags": []
          },
          "execution_count": 34
        },
        {
          "output_type": "display_data",
          "data": {
            "image/png": "[encoded data removed]",
            "text/plain": [
              "<Figure size 432x288 with 1 Axes>"
            ]
          },
          "metadata": {
            "tags": []
          }
        }
      ]
    },
    {
      "cell_type": "code",
      "metadata": {
        "id": "U5lMA2B7R78C",
        "colab_type": "code",
        "outputId": "1a6363b4-badf-4730-e8a6-d2056f60f66b",
        "colab": {
          "base_uri": "https://localhost:8080/",
          "height": 308
        }
      },
      "source": [
        "# Exploring completed rides on different time\n",
        "completed_trips['hourly_time'] = completed_trips['time'].apply(lambda x : x.split(':')[0])\n",
        "completed_trips['hourly_time'] = completed_trips['hourly_time'].astype('int')\n",
        "sns.countplot(x=\"hourly_time\", data= completed_trips)"
      ],
      "execution_count": 0,
      "outputs": [
        {
          "output_type": "execute_result",
          "data": {
            "text/plain": [
              "<matplotlib.axes._subplots.AxesSubplot at 0x7f8cdc807240>"
            ]
          },
          "metadata": {
            "tags": []
          },
          "execution_count": 35
        },
        {
          "output_type": "display_data",
          "data": {
            "image/png": "[encoded data removed]",
            "text/plain": [
              "<Figure size 432x288 with 1 Axes>"
            ]
          },
          "metadata": {
            "tags": []
          }
        }
      ]
    },
    {
      "cell_type": "markdown",
      "metadata": {
        "id": "DQ_749OXvNRg",
        "colab_type": "text"
      },
      "source": [
        "From the above two plots we can say that most of the rides are completed and cancelled during day time between 9 am to 9 pm. Now we need to figure our relative cancellation frequency of rides."
      ]
    },
    {
      "cell_type": "code",
      "metadata": {
        "id": "uLGF2comTJgb",
        "colab_type": "code",
        "outputId": "3b242e33-59da-4e72-91cc-9c79086ebe4f",
        "colab": {
          "base_uri": "https://localhost:8080/",
          "height": 308
        }
      },
      "source": [
        "# Relative cancellation wrt completed for different time\n",
        "df2.columns = df2.columns.droplevel(0)\n",
        "df2['total_cancelled_each_hour'] = df2.sum(axis=1)\n",
        "df2 = df2.reset_index()\n",
        "completed_trips_each_hour = pd.DataFrame(completed_trips['hourly_time'].value_counts().reset_index())\n",
        "completed_trips_each_hour.columns = ['hourly_time', 'total_completed_each_hour']\n",
        "df3 = pd.merge(df2, completed_trips_each_hour, on = \"hourly_time\", how = \"inner\")\n",
        "df3['hourly_time'] = df3['hourly_time'].astype('int')\n",
        "df3['fraction'] = pd.to_numeric(df3['total_cancelled_each_hour'])/pd.to_numeric(df3['total_completed_each_hour'])\n",
        "sns.barplot(x=\"hourly_time\", y = \"fraction\", data= df3)"
      ],
      "execution_count": 0,
      "outputs": [
        {
          "output_type": "execute_result",
          "data": {
            "text/plain": [
              "<matplotlib.axes._subplots.AxesSubplot at 0x7f8cdc60bdd8>"
            ]
          },
          "metadata": {
            "tags": []
          },
          "execution_count": 36
        },
        {
          "output_type": "display_data",
          "data": {
            "image/png": "[encoded data removed]",
            "text/plain": [
              "<Figure size 432x288 with 1 Axes>"
            ]
          },
          "metadata": {
            "tags": []
          }
        }
      ]
    },
    {
      "cell_type": "markdown",
      "metadata": {
        "id": "Lxu6uyyYrgNm",
        "colab_type": "text"
      },
      "source": [
        "From the above plot we can interpret that more rides are cancelled than completed after 11 PM and reaches to maximum around 3 AM and then decreases after that. Now we need to look into how many rides between that time is cancelled by system due to unavaiabilty and the drivers. \n",
        "\n",
        "After that we can analyse the number of rides booked for Airport during that time as well. "
      ]
    },
    {
      "cell_type": "code",
      "metadata": {
        "id": "FJjGacb31CeO",
        "colab_type": "code",
        "outputId": "d5c019bc-e791-4bc3-e40c-f13564fd29dd",
        "colab": {
          "base_uri": "https://localhost:8080/",
          "height": 332
        }
      },
      "source": [
        "# Cancellation distribution duridng peak cancellation hours\n",
        "cancelled_rides_during_night = cancelled_trips[cancelled_trips['hourly_time'].isin([23, 0, 1, 2, 3, 4, 5])]\n",
        "cancelled_rides_during_night['cancelled_by'].value_counts().plot.pie(y='cancelled_by', figsize=(5, 5), autopct='%1.1f%%')"
      ],
      "execution_count": 0,
      "outputs": [
        {
          "output_type": "execute_result",
          "data": {
            "text/plain": [
              "<matplotlib.axes._subplots.AxesSubplot at 0x7f8cde5034a8>"
            ]
          },
          "metadata": {
            "tags": []
          },
          "execution_count": 37
        },
        {
          "output_type": "display_data",
          "data": {
            "image/png": "[encoded data removed]",
            "text/plain": [
              "<Figure size 360x360 with 1 Axes>"
            ]
          },
          "metadata": {
            "tags": []
          }
        }
      ]
    },
    {
      "cell_type": "code",
      "metadata": {
        "id": "7eUr46VCchIN",
        "colab_type": "code",
        "outputId": "d68bee2b-542f-4713-8fb7-76a744e0436c",
        "colab": {
          "base_uri": "https://localhost:8080/",
          "height": 332
        }
      },
      "source": [
        "# Cancellation distribution during peak cancellation hours for airport trips\n",
        "cancelled_rides_during_night[cancelled_rides_during_night['drop_loc'] == \"Airport\"]['cancelled_by'].value_counts().plot.pie(y='cancelled_by', shadow = True, figsize=(5, 5), autopct='%1.1f%%')"
      ],
      "execution_count": 0,
      "outputs": [
        {
          "output_type": "execute_result",
          "data": {
            "text/plain": [
              "<matplotlib.axes._subplots.AxesSubplot at 0x7f8cde523278>"
            ]
          },
          "metadata": {
            "tags": []
          },
          "execution_count": 38
        },
        {
          "output_type": "display_data",
          "data": {
            "image/png": "[encoded data removed]",
            "text/plain": [
              "<Figure size 360x360 with 1 Axes>"
            ]
          },
          "metadata": {
            "tags": []
          }
        }
      ]
    },
    {
      "cell_type": "markdown",
      "metadata": {
        "id": "U7bLdJNsc3Rg",
        "colab_type": "text"
      },
      "source": [
        "From the above plot we can say that during night time when all cabs to the airport are either cancelled by drivers or system and none of them by the customers. Given that contribution to total cancellation number is dominated by customers."
      ]
    },
    {
      "cell_type": "code",
      "metadata": {
        "id": "za24M0vgkT2E",
        "colab_type": "code",
        "outputId": "e96fc027-6c57-45a9-ea88-e318e8f1ad4a",
        "colab": {
          "base_uri": "https://localhost:8080/",
          "height": 194
        }
      },
      "source": [
        "cancelled_rides_during_night_to_airport = cancelled_rides_during_night[cancelled_rides_during_night['drop_loc'] == \"Airport\"]\n",
        "cancelled_rides_during_night_to_airport.groupby(['cancelled_by', 'pickup_loc'])['order_id'].count()"
      ],
      "execution_count": 0,
      "outputs": [
        {
          "output_type": "execute_result",
          "data": {
            "text/plain": [
              "cancelled_by              pickup_loc     \n",
              "driver                    Airoli             1\n",
              "                          Jogeshwari West    2\n",
              "                          Kandiwali West     1\n",
              "                          Marol              1\n",
              "                          Powai              1\n",
              "system_nodriver_accepted  Govandi            1\n",
              "                          Nerul              8\n",
              "                          Rabale             2\n",
              "Name: order_id, dtype: int64"
            ]
          },
          "metadata": {
            "tags": []
          },
          "execution_count": 39
        }
      ]
    },
    {
      "cell_type": "markdown",
      "metadata": {
        "id": "orFs8m9ZoUxF",
        "colab_type": "text"
      },
      "source": [
        "From the above data we can conclude that rides for Airport are mostly cancelled by the dirvers for the locations : Airoli, Jogeshwari West, Kandiwali West, Marol, Powai and system nodriver accepted in the locations Nerul, Govandi and Rabale means that no cabs are found at these locations during night time.\n",
        "\n",
        "Now we can explore the reason for cancellation by drivers during night time. The reason might be long travel distance. "
      ]
    },
    {
      "cell_type": "code",
      "metadata": {
        "id": "4sWLr80PpZ9f",
        "colab_type": "code",
        "outputId": "34cc9de0-847c-4236-b3ac-5988400c101f",
        "colab": {
          "base_uri": "https://localhost:8080/",
          "height": 34
        }
      },
      "source": [
        "cancelled_rides_during_night['travel_distance'].median()"
      ],
      "execution_count": 0,
      "outputs": [
        {
          "output_type": "execute_result",
          "data": {
            "text/plain": [
              "13.055"
            ]
          },
          "metadata": {
            "tags": []
          },
          "execution_count": 40
        }
      ]
    },
    {
      "cell_type": "code",
      "metadata": {
        "id": "7GWUz7PZpMbG",
        "colab_type": "code",
        "outputId": "286c4d08-0f63-40a3-bc0f-0a75b758e8ed",
        "colab": {
          "base_uri": "https://localhost:8080/",
          "height": 194
        }
      },
      "source": [
        "cancelled_rides_during_night_to_airport.groupby(['cancelled_by', 'pickup_loc'])['travel_distance'].mean()"
      ],
      "execution_count": 0,
      "outputs": [
        {
          "output_type": "execute_result",
          "data": {
            "text/plain": [
              "cancelled_by              pickup_loc     \n",
              "driver                    Airoli             22.3700\n",
              "                          Jogeshwari West    42.2150\n",
              "                          Kandiwali West     57.0300\n",
              "                          Marol              33.6900\n",
              "                          Powai              51.0700\n",
              "system_nodriver_accepted  Govandi            19.0500\n",
              "                          Nerul               9.5225\n",
              "                          Rabale             15.4500\n",
              "Name: travel_distance, dtype: float64"
            ]
          },
          "metadata": {
            "tags": []
          },
          "execution_count": 41
        }
      ]
    },
    {
      "cell_type": "markdown",
      "metadata": {
        "id": "CH7RAfGCplIB",
        "colab_type": "text"
      },
      "source": [
        "From the above data we can say that our hypothesis holds true. Drivers cancelled the rides because of longer travel distance. Since for all the cancelled rides during night hours median travel time is 13 min and rides cancelled by  drivers have to travel significantly large distance."
      ]
    },
    {
      "cell_type": "code",
      "metadata": {
        "id": "QAk0glKxpj_C",
        "colab_type": "code",
        "outputId": "96309bd7-d8b7-40b5-96d7-bd1c2c255350",
        "colab": {
          "base_uri": "https://localhost:8080/",
          "height": 332
        }
      },
      "source": [
        "# Cancellation distribution during peak cancellation hours for locations other than airport\n",
        "cancelled_rides_during_night[cancelled_rides_during_night['drop_loc'] != \"Airport\"]['cancelled_by'].value_counts().plot.pie(y='cancelled_by', shadow = True, figsize=(5, 5), autopct='%1.1f%%')"
      ],
      "execution_count": 0,
      "outputs": [
        {
          "output_type": "execute_result",
          "data": {
            "text/plain": [
              "<matplotlib.axes._subplots.AxesSubplot at 0x7f8cdc444cc0>"
            ]
          },
          "metadata": {
            "tags": []
          },
          "execution_count": 42
        },
        {
          "output_type": "display_data",
          "data": {
            "image/png": "[encoded data removed]",
            "text/plain": [
              "<Figure size 360x360 with 1 Axes>"
            ]
          },
          "metadata": {
            "tags": []
          }
        }
      ]
    },
    {
      "cell_type": "code",
      "metadata": {
        "id": "RUQvcbIsg4VO",
        "colab_type": "code",
        "outputId": "0b61a0d4-8ce7-46e2-fde7-8ee52b55a155",
        "colab": {
          "base_uri": "https://localhost:8080/",
          "height": 1906
        }
      },
      "source": [
        "cancelled_rides_during_night_not_to_airport = cancelled_rides_during_night[cancelled_rides_during_night['drop_loc'] != \"Airport\"]\n",
        "cancelled_rides_during_night_not_to_airport.groupby(['pickup_loc', 'cancelled_by'])['order_id'].count().reset_index()"
      ],
      "execution_count": 0,
      "outputs": [
        {
          "output_type": "execute_result",
          "data": {
            "text/html": [
              "<div>\n",
              "<style scoped>\n",
              "    .dataframe tbody tr th:only-of-type {\n",
              "        vertical-align: middle;\n",
              "    }\n",
              "\n",
              "    .dataframe tbody tr th {\n",
              "        vertical-align: top;\n",
              "    }\n",
              "\n",
              "    .dataframe thead th {\n",
              "        text-align: right;\n",
              "    }\n",
              "</style>\n",
              "<table border=\"1\" class=\"dataframe\">\n",
              "  <thead>\n",
              "    <tr style=\"text-align: right;\">\n",
              "      <th></th>\n",
              "      <th>pickup_loc</th>\n",
              "      <th>cancelled_by</th>\n",
              "      <th>order_id</th>\n",
              "    </tr>\n",
              "  </thead>\n",
              "  <tbody>\n",
              "    <tr>\n",
              "      <th>0</th>\n",
              "      <td>Aarey</td>\n",
              "      <td>customer</td>\n",
              "      <td>2</td>\n",
              "    </tr>\n",
              "    <tr>\n",
              "      <th>1</th>\n",
              "      <td>Aarey</td>\n",
              "      <td>driver</td>\n",
              "      <td>1</td>\n",
              "    </tr>\n",
              "    <tr>\n",
              "      <th>2</th>\n",
              "      <td>Agra Road</td>\n",
              "      <td>customer</td>\n",
              "      <td>2</td>\n",
              "    </tr>\n",
              "    <tr>\n",
              "      <th>3</th>\n",
              "      <td>Airoli</td>\n",
              "      <td>customer</td>\n",
              "      <td>1</td>\n",
              "    </tr>\n",
              "    <tr>\n",
              "      <th>4</th>\n",
              "      <td>Airport</td>\n",
              "      <td>customer</td>\n",
              "      <td>8</td>\n",
              "    </tr>\n",
              "    <tr>\n",
              "      <th>5</th>\n",
              "      <td>Airport</td>\n",
              "      <td>driver</td>\n",
              "      <td>1</td>\n",
              "    </tr>\n",
              "    <tr>\n",
              "      <th>6</th>\n",
              "      <td>Airport</td>\n",
              "      <td>system_nodriver_accepted</td>\n",
              "      <td>14</td>\n",
              "    </tr>\n",
              "    <tr>\n",
              "      <th>7</th>\n",
              "      <td>Andheri East</td>\n",
              "      <td>customer</td>\n",
              "      <td>2</td>\n",
              "    </tr>\n",
              "    <tr>\n",
              "      <th>8</th>\n",
              "      <td>Andheri East</td>\n",
              "      <td>driver</td>\n",
              "      <td>1</td>\n",
              "    </tr>\n",
              "    <tr>\n",
              "      <th>9</th>\n",
              "      <td>Anjurphata</td>\n",
              "      <td>customer</td>\n",
              "      <td>6</td>\n",
              "    </tr>\n",
              "    <tr>\n",
              "      <th>10</th>\n",
              "      <td>Antop Hill</td>\n",
              "      <td>customer</td>\n",
              "      <td>4</td>\n",
              "    </tr>\n",
              "    <tr>\n",
              "      <th>11</th>\n",
              "      <td>Antop Hill</td>\n",
              "      <td>system_nodriver_accepted</td>\n",
              "      <td>1</td>\n",
              "    </tr>\n",
              "    <tr>\n",
              "      <th>12</th>\n",
              "      <td>Bandra East</td>\n",
              "      <td>customer</td>\n",
              "      <td>5</td>\n",
              "    </tr>\n",
              "    <tr>\n",
              "      <th>13</th>\n",
              "      <td>Bandra East</td>\n",
              "      <td>driver</td>\n",
              "      <td>1</td>\n",
              "    </tr>\n",
              "    <tr>\n",
              "      <th>14</th>\n",
              "      <td>Bandra East</td>\n",
              "      <td>system_nodriver_accepted</td>\n",
              "      <td>3</td>\n",
              "    </tr>\n",
              "    <tr>\n",
              "      <th>15</th>\n",
              "      <td>Bandra West</td>\n",
              "      <td>customer</td>\n",
              "      <td>8</td>\n",
              "    </tr>\n",
              "    <tr>\n",
              "      <th>16</th>\n",
              "      <td>Bandra West</td>\n",
              "      <td>system_nodriver_accepted</td>\n",
              "      <td>4</td>\n",
              "    </tr>\n",
              "    <tr>\n",
              "      <th>17</th>\n",
              "      <td>Boriwali East</td>\n",
              "      <td>customer</td>\n",
              "      <td>1</td>\n",
              "    </tr>\n",
              "    <tr>\n",
              "      <th>18</th>\n",
              "      <td>Boriwali East</td>\n",
              "      <td>system_nodriver_accepted</td>\n",
              "      <td>1</td>\n",
              "    </tr>\n",
              "    <tr>\n",
              "      <th>19</th>\n",
              "      <td>Boriwali West</td>\n",
              "      <td>customer</td>\n",
              "      <td>3</td>\n",
              "    </tr>\n",
              "    <tr>\n",
              "      <th>20</th>\n",
              "      <td>Boriwali West</td>\n",
              "      <td>system_nodriver_accepted</td>\n",
              "      <td>3</td>\n",
              "    </tr>\n",
              "    <tr>\n",
              "      <th>21</th>\n",
              "      <td>Byculla</td>\n",
              "      <td>customer</td>\n",
              "      <td>5</td>\n",
              "    </tr>\n",
              "    <tr>\n",
              "      <th>22</th>\n",
              "      <td>Byculla</td>\n",
              "      <td>driver</td>\n",
              "      <td>2</td>\n",
              "    </tr>\n",
              "    <tr>\n",
              "      <th>23</th>\n",
              "      <td>Byculla</td>\n",
              "      <td>system_nodriver_accepted</td>\n",
              "      <td>1</td>\n",
              "    </tr>\n",
              "    <tr>\n",
              "      <th>24</th>\n",
              "      <td>Chembur</td>\n",
              "      <td>customer</td>\n",
              "      <td>3</td>\n",
              "    </tr>\n",
              "    <tr>\n",
              "      <th>25</th>\n",
              "      <td>Chembur</td>\n",
              "      <td>system_nodriver_accepted</td>\n",
              "      <td>3</td>\n",
              "    </tr>\n",
              "    <tr>\n",
              "      <th>26</th>\n",
              "      <td>Churchgate</td>\n",
              "      <td>customer</td>\n",
              "      <td>6</td>\n",
              "    </tr>\n",
              "    <tr>\n",
              "      <th>27</th>\n",
              "      <td>Churchgate</td>\n",
              "      <td>system_nodriver_accepted</td>\n",
              "      <td>12</td>\n",
              "    </tr>\n",
              "    <tr>\n",
              "      <th>28</th>\n",
              "      <td>Dadar</td>\n",
              "      <td>customer</td>\n",
              "      <td>5</td>\n",
              "    </tr>\n",
              "    <tr>\n",
              "      <th>29</th>\n",
              "      <td>Dadar</td>\n",
              "      <td>system_nodriver_accepted</td>\n",
              "      <td>2</td>\n",
              "    </tr>\n",
              "    <tr>\n",
              "      <th>...</th>\n",
              "      <td>...</td>\n",
              "      <td>...</td>\n",
              "      <td>...</td>\n",
              "    </tr>\n",
              "    <tr>\n",
              "      <th>67</th>\n",
              "      <td>Malad West</td>\n",
              "      <td>customer</td>\n",
              "      <td>4</td>\n",
              "    </tr>\n",
              "    <tr>\n",
              "      <th>68</th>\n",
              "      <td>Malad West</td>\n",
              "      <td>driver</td>\n",
              "      <td>1</td>\n",
              "    </tr>\n",
              "    <tr>\n",
              "      <th>69</th>\n",
              "      <td>Marol</td>\n",
              "      <td>customer</td>\n",
              "      <td>3</td>\n",
              "    </tr>\n",
              "    <tr>\n",
              "      <th>70</th>\n",
              "      <td>Mira Bhayander</td>\n",
              "      <td>system_nodriver_accepted</td>\n",
              "      <td>1</td>\n",
              "    </tr>\n",
              "    <tr>\n",
              "      <th>71</th>\n",
              "      <td>Mulund</td>\n",
              "      <td>customer</td>\n",
              "      <td>12</td>\n",
              "    </tr>\n",
              "    <tr>\n",
              "      <th>72</th>\n",
              "      <td>Mulund</td>\n",
              "      <td>driver</td>\n",
              "      <td>2</td>\n",
              "    </tr>\n",
              "    <tr>\n",
              "      <th>73</th>\n",
              "      <td>Mulund</td>\n",
              "      <td>system_nodriver_accepted</td>\n",
              "      <td>11</td>\n",
              "    </tr>\n",
              "    <tr>\n",
              "      <th>74</th>\n",
              "      <td>Mumbai Central</td>\n",
              "      <td>customer</td>\n",
              "      <td>1</td>\n",
              "    </tr>\n",
              "    <tr>\n",
              "      <th>75</th>\n",
              "      <td>Mumbai Central</td>\n",
              "      <td>system_nodriver_accepted</td>\n",
              "      <td>1</td>\n",
              "    </tr>\n",
              "    <tr>\n",
              "      <th>76</th>\n",
              "      <td>Nerul</td>\n",
              "      <td>customer</td>\n",
              "      <td>1</td>\n",
              "    </tr>\n",
              "    <tr>\n",
              "      <th>77</th>\n",
              "      <td>Ovale</td>\n",
              "      <td>system_nodriver_accepted</td>\n",
              "      <td>10</td>\n",
              "    </tr>\n",
              "    <tr>\n",
              "      <th>78</th>\n",
              "      <td>Parel</td>\n",
              "      <td>customer</td>\n",
              "      <td>2</td>\n",
              "    </tr>\n",
              "    <tr>\n",
              "      <th>79</th>\n",
              "      <td>Parel</td>\n",
              "      <td>system_nodriver_accepted</td>\n",
              "      <td>1</td>\n",
              "    </tr>\n",
              "    <tr>\n",
              "      <th>80</th>\n",
              "      <td>Patlipada</td>\n",
              "      <td>customer</td>\n",
              "      <td>2</td>\n",
              "    </tr>\n",
              "    <tr>\n",
              "      <th>81</th>\n",
              "      <td>Patlipada</td>\n",
              "      <td>system_nodriver_accepted</td>\n",
              "      <td>2</td>\n",
              "    </tr>\n",
              "    <tr>\n",
              "      <th>82</th>\n",
              "      <td>Powai</td>\n",
              "      <td>customer</td>\n",
              "      <td>2</td>\n",
              "    </tr>\n",
              "    <tr>\n",
              "      <th>83</th>\n",
              "      <td>Powai</td>\n",
              "      <td>system_nodriver_accepted</td>\n",
              "      <td>1</td>\n",
              "    </tr>\n",
              "    <tr>\n",
              "      <th>84</th>\n",
              "      <td>Purna</td>\n",
              "      <td>customer</td>\n",
              "      <td>1</td>\n",
              "    </tr>\n",
              "    <tr>\n",
              "      <th>85</th>\n",
              "      <td>Rabale</td>\n",
              "      <td>customer</td>\n",
              "      <td>3</td>\n",
              "    </tr>\n",
              "    <tr>\n",
              "      <th>86</th>\n",
              "      <td>Rabale</td>\n",
              "      <td>system_nodriver_accepted</td>\n",
              "      <td>1</td>\n",
              "    </tr>\n",
              "    <tr>\n",
              "      <th>87</th>\n",
              "      <td>Saki Naka</td>\n",
              "      <td>customer</td>\n",
              "      <td>5</td>\n",
              "    </tr>\n",
              "    <tr>\n",
              "      <th>88</th>\n",
              "      <td>Saki Vihar</td>\n",
              "      <td>customer</td>\n",
              "      <td>2</td>\n",
              "    </tr>\n",
              "    <tr>\n",
              "      <th>89</th>\n",
              "      <td>Shivai Nagar</td>\n",
              "      <td>customer</td>\n",
              "      <td>4</td>\n",
              "    </tr>\n",
              "    <tr>\n",
              "      <th>90</th>\n",
              "      <td>Shivai Nagar</td>\n",
              "      <td>system_nodriver_accepted</td>\n",
              "      <td>9</td>\n",
              "    </tr>\n",
              "    <tr>\n",
              "      <th>91</th>\n",
              "      <td>Vashi</td>\n",
              "      <td>driver</td>\n",
              "      <td>1</td>\n",
              "    </tr>\n",
              "    <tr>\n",
              "      <th>92</th>\n",
              "      <td>Vashi</td>\n",
              "      <td>system_nodriver_accepted</td>\n",
              "      <td>1</td>\n",
              "    </tr>\n",
              "    <tr>\n",
              "      <th>93</th>\n",
              "      <td>Vikhroli</td>\n",
              "      <td>customer</td>\n",
              "      <td>5</td>\n",
              "    </tr>\n",
              "    <tr>\n",
              "      <th>94</th>\n",
              "      <td>Vikhroli</td>\n",
              "      <td>system_nodriver_accepted</td>\n",
              "      <td>2</td>\n",
              "    </tr>\n",
              "    <tr>\n",
              "      <th>95</th>\n",
              "      <td>Vile Parle East</td>\n",
              "      <td>customer</td>\n",
              "      <td>2</td>\n",
              "    </tr>\n",
              "    <tr>\n",
              "      <th>96</th>\n",
              "      <td>Vile Parle East</td>\n",
              "      <td>driver</td>\n",
              "      <td>1</td>\n",
              "    </tr>\n",
              "  </tbody>\n",
              "</table>\n",
              "<p>97 rows × 3 columns</p>\n",
              "</div>"
            ],
            "text/plain": [
              "         pickup_loc              cancelled_by  order_id\n",
              "0             Aarey                  customer         2\n",
              "1             Aarey                    driver         1\n",
              "2         Agra Road                  customer         2\n",
              "3            Airoli                  customer         1\n",
              "4           Airport                  customer         8\n",
              "5           Airport                    driver         1\n",
              "6           Airport  system_nodriver_accepted        14\n",
              "7      Andheri East                  customer         2\n",
              "8      Andheri East                    driver         1\n",
              "9        Anjurphata                  customer         6\n",
              "10       Antop Hill                  customer         4\n",
              "11       Antop Hill  system_nodriver_accepted         1\n",
              "12      Bandra East                  customer         5\n",
              "13      Bandra East                    driver         1\n",
              "14      Bandra East  system_nodriver_accepted         3\n",
              "15      Bandra West                  customer         8\n",
              "16      Bandra West  system_nodriver_accepted         4\n",
              "17    Boriwali East                  customer         1\n",
              "18    Boriwali East  system_nodriver_accepted         1\n",
              "19    Boriwali West                  customer         3\n",
              "20    Boriwali West  system_nodriver_accepted         3\n",
              "21          Byculla                  customer         5\n",
              "22          Byculla                    driver         2\n",
              "23          Byculla  system_nodriver_accepted         1\n",
              "24          Chembur                  customer         3\n",
              "25          Chembur  system_nodriver_accepted         3\n",
              "26       Churchgate                  customer         6\n",
              "27       Churchgate  system_nodriver_accepted        12\n",
              "28            Dadar                  customer         5\n",
              "29            Dadar  system_nodriver_accepted         2\n",
              "..              ...                       ...       ...\n",
              "67       Malad West                  customer         4\n",
              "68       Malad West                    driver         1\n",
              "69            Marol                  customer         3\n",
              "70   Mira Bhayander  system_nodriver_accepted         1\n",
              "71           Mulund                  customer        12\n",
              "72           Mulund                    driver         2\n",
              "73           Mulund  system_nodriver_accepted        11\n",
              "74   Mumbai Central                  customer         1\n",
              "75   Mumbai Central  system_nodriver_accepted         1\n",
              "76            Nerul                  customer         1\n",
              "77            Ovale  system_nodriver_accepted        10\n",
              "78            Parel                  customer         2\n",
              "79            Parel  system_nodriver_accepted         1\n",
              "80        Patlipada                  customer         2\n",
              "81        Patlipada  system_nodriver_accepted         2\n",
              "82            Powai                  customer         2\n",
              "83            Powai  system_nodriver_accepted         1\n",
              "84            Purna                  customer         1\n",
              "85           Rabale                  customer         3\n",
              "86           Rabale  system_nodriver_accepted         1\n",
              "87        Saki Naka                  customer         5\n",
              "88       Saki Vihar                  customer         2\n",
              "89     Shivai Nagar                  customer         4\n",
              "90     Shivai Nagar  system_nodriver_accepted         9\n",
              "91            Vashi                    driver         1\n",
              "92            Vashi  system_nodriver_accepted         1\n",
              "93         Vikhroli                  customer         5\n",
              "94         Vikhroli  system_nodriver_accepted         2\n",
              "95  Vile Parle East                  customer         2\n",
              "96  Vile Parle East                    driver         1\n",
              "\n",
              "[97 rows x 3 columns]"
            ]
          },
          "metadata": {
            "tags": []
          },
          "execution_count": 43
        }
      ]
    },
    {
      "cell_type": "code",
      "metadata": {
        "id": "928ejUtLIYtW",
        "colab_type": "code",
        "outputId": "e4766e37-ebe2-45a2-cf36-1918f62b6255",
        "colab": {
          "base_uri": "https://localhost:8080/",
          "height": 137
        }
      },
      "source": [
        "cancelled_rides_during_night_not_to_airport.groupby(['cancelled_by'])['travel_distance'].mean().reset_index()"
      ],
      "execution_count": 0,
      "outputs": [
        {
          "output_type": "execute_result",
          "data": {
            "text/html": [
              "<div>\n",
              "<style scoped>\n",
              "    .dataframe tbody tr th:only-of-type {\n",
              "        vertical-align: middle;\n",
              "    }\n",
              "\n",
              "    .dataframe tbody tr th {\n",
              "        vertical-align: top;\n",
              "    }\n",
              "\n",
              "    .dataframe thead th {\n",
              "        text-align: right;\n",
              "    }\n",
              "</style>\n",
              "<table border=\"1\" class=\"dataframe\">\n",
              "  <thead>\n",
              "    <tr style=\"text-align: right;\">\n",
              "      <th></th>\n",
              "      <th>cancelled_by</th>\n",
              "      <th>travel_distance</th>\n",
              "    </tr>\n",
              "  </thead>\n",
              "  <tbody>\n",
              "    <tr>\n",
              "      <th>0</th>\n",
              "      <td>customer</td>\n",
              "      <td>16.163989</td>\n",
              "    </tr>\n",
              "    <tr>\n",
              "      <th>1</th>\n",
              "      <td>driver</td>\n",
              "      <td>12.830526</td>\n",
              "    </tr>\n",
              "    <tr>\n",
              "      <th>2</th>\n",
              "      <td>system_nodriver_accepted</td>\n",
              "      <td>20.257672</td>\n",
              "    </tr>\n",
              "  </tbody>\n",
              "</table>\n",
              "</div>"
            ],
            "text/plain": [
              "               cancelled_by  travel_distance\n",
              "0                  customer        16.163989\n",
              "1                    driver        12.830526\n",
              "2  system_nodriver_accepted        20.257672"
            ]
          },
          "metadata": {
            "tags": []
          },
          "execution_count": 46
        }
      ]
    },
    {
      "cell_type": "markdown",
      "metadata": {
        "id": "xX4I8M-Vmx0Y",
        "colab_type": "text"
      },
      "source": [
        "For the rides other than airport there is no pattern observed in cancellation of rides."
      ]
    },
    {
      "cell_type": "code",
      "metadata": {
        "id": "7LZIc96zKGaP",
        "colab_type": "code",
        "outputId": "d59df67c-aea6-465e-dfd8-834dc246fbfe",
        "colab": {
          "base_uri": "https://localhost:8080/",
          "height": 332
        }
      },
      "source": [
        "# Cancellation distribution duridng day hours\n",
        "cancelled_rides_during_day = cancelled_trips[~cancelled_trips['hourly_time'].isin([23, 0, 1, 2, 3, 4, 5])]\n",
        "cancelled_rides_during_day['cancelled_by'].value_counts().plot.pie(y='cancelled_by', figsize=(5, 5), autopct='%1.1f%%')"
      ],
      "execution_count": 0,
      "outputs": [
        {
          "output_type": "execute_result",
          "data": {
            "text/plain": [
              "<matplotlib.axes._subplots.AxesSubplot at 0x7f8cdc60b588>"
            ]
          },
          "metadata": {
            "tags": []
          },
          "execution_count": 48
        },
        {
          "output_type": "display_data",
          "data": {
            "image/png": "[encoded data removed]",
            "text/plain": [
              "<Figure size 360x360 with 1 Axes>"
            ]
          },
          "metadata": {
            "tags": []
          }
        }
      ]
    },
    {
      "cell_type": "code",
      "metadata": {
        "id": "3oz_cPByKU2G",
        "colab_type": "code",
        "outputId": "c38b000a-ba1a-433f-c0bc-0354a599cda4",
        "colab": {
          "base_uri": "https://localhost:8080/",
          "height": 332
        }
      },
      "source": [
        "# Cancellation distribution during day hours for airport trips\n",
        "cancelled_rides_during_day[cancelled_rides_during_day['drop_loc'] == \"Airport\"]['cancelled_by'].value_counts().plot.pie(y='cancelled_by', shadow = True, figsize=(5, 5), autopct='%1.1f%%')"
      ],
      "execution_count": 0,
      "outputs": [
        {
          "output_type": "execute_result",
          "data": {
            "text/plain": [
              "<matplotlib.axes._subplots.AxesSubplot at 0x7f8cdc360e48>"
            ]
          },
          "metadata": {
            "tags": []
          },
          "execution_count": 49
        },
        {
          "output_type": "display_data",
          "data": {
            "image/png": "[encoded data removed]",
            "text/plain": [
              "<Figure size 360x360 with 1 Axes>"
            ]
          },
          "metadata": {
            "tags": []
          }
        }
      ]
    },
    {
      "cell_type": "markdown",
      "metadata": {
        "id": "BfJ6VLBlmfw6",
        "colab_type": "text"
      },
      "source": [
        "As from the above plot we can say that most of the trips to the airport are cancelled by drivers."
      ]
    },
    {
      "cell_type": "code",
      "metadata": {
        "id": "kiQwykciKs42",
        "colab_type": "code",
        "outputId": "8b469b70-6b56-4f53-d293-7c8c48984d2d",
        "colab": {
          "base_uri": "https://localhost:8080/",
          "height": 105
        }
      },
      "source": [
        "cancelled_rides_during_day_to_airport = cancelled_rides_during_day[cancelled_rides_during_day['drop_loc'] == \"Airport\"]\n",
        "cancelled_rides_during_day_to_airport.groupby(['cancelled_by'])['order_id'].count()"
      ],
      "execution_count": 61,
      "outputs": [
        {
          "output_type": "execute_result",
          "data": {
            "text/plain": [
              "cancelled_by\n",
              "customer                      6\n",
              "driver                      176\n",
              "system_nodriver_accepted     33\n",
              "Name: order_id, dtype: int64"
            ]
          },
          "metadata": {
            "tags": []
          },
          "execution_count": 61
        }
      ]
    },
    {
      "cell_type": "code",
      "metadata": {
        "id": "4XwSnOZULBAa",
        "colab_type": "code",
        "outputId": "61928ab9-8dd7-4e83-c520-b2ebce1736ce",
        "colab": {
          "base_uri": "https://localhost:8080/",
          "height": 34
        }
      },
      "source": [
        "cancelled_rides_during_day['travel_distance'].median()"
      ],
      "execution_count": 0,
      "outputs": [
        {
          "output_type": "execute_result",
          "data": {
            "text/plain": [
              "14.95"
            ]
          },
          "metadata": {
            "tags": []
          },
          "execution_count": 51
        }
      ]
    },
    {
      "cell_type": "code",
      "metadata": {
        "id": "kHbTg617LLQi",
        "colab_type": "code",
        "outputId": "a4e41ea6-f7c0-4a60-8764-012b2fbd493a",
        "colab": {
          "base_uri": "https://localhost:8080/",
          "height": 105
        }
      },
      "source": [
        "cancelled_rides_during_day_to_airport.groupby(['cancelled_by'])['travel_distance'].median()"
      ],
      "execution_count": 56,
      "outputs": [
        {
          "output_type": "execute_result",
          "data": {
            "text/plain": [
              "cancelled_by\n",
              "customer                    18.105\n",
              "driver                      37.975\n",
              "system_nodriver_accepted     9.260\n",
              "Name: travel_distance, dtype: float64"
            ]
          },
          "metadata": {
            "tags": []
          },
          "execution_count": 56
        }
      ]
    },
    {
      "cell_type": "markdown",
      "metadata": {
        "id": "qXgD5-z5cAWW",
        "colab_type": "text"
      },
      "source": [
        "From the above data we can say that as 81.9% cancellation by drivers in the day time for airport due to larger travel time. "
      ]
    },
    {
      "cell_type": "code",
      "metadata": {
        "id": "c3JcypFGTRca",
        "colab_type": "code",
        "outputId": "93bd8098-ded5-4caf-9df9-d70e39b6152a",
        "colab": {
          "base_uri": "https://localhost:8080/",
          "height": 347
        }
      },
      "source": [
        "# Frequency of locations from where most cancelled cabs were booked\n",
        "top_cancelled_routes = cancelled_trips.groupby(['pickup_loc', 'drop_loc'])['order_id'].count().reset_index().sort_values(by = 'order_id', ascending = False)\n",
        "# top_cancelled_routes\n",
        "pickup_locations_for_airport_with_max_cancellation = top_cancelled_routes[top_cancelled_routes['drop_loc'] == 'Airport'].head(10)['pickup_loc']\n",
        "top_cancelled_routes[top_cancelled_routes['drop_loc'] == 'Airport'].head(10)"
      ],
      "execution_count": 101,
      "outputs": [
        {
          "output_type": "execute_result",
          "data": {
            "text/html": [
              "<div>\n",
              "<style scoped>\n",
              "    .dataframe tbody tr th:only-of-type {\n",
              "        vertical-align: middle;\n",
              "    }\n",
              "\n",
              "    .dataframe tbody tr th {\n",
              "        vertical-align: top;\n",
              "    }\n",
              "\n",
              "    .dataframe thead th {\n",
              "        text-align: right;\n",
              "    }\n",
              "</style>\n",
              "<table border=\"1\" class=\"dataframe\">\n",
              "  <thead>\n",
              "    <tr style=\"text-align: right;\">\n",
              "      <th></th>\n",
              "      <th>pickup_loc</th>\n",
              "      <th>drop_loc</th>\n",
              "      <th>order_id</th>\n",
              "    </tr>\n",
              "  </thead>\n",
              "  <tbody>\n",
              "    <tr>\n",
              "      <th>1171</th>\n",
              "      <td>Nerul</td>\n",
              "      <td>Airport</td>\n",
              "      <td>18</td>\n",
              "    </tr>\n",
              "    <tr>\n",
              "      <th>1378</th>\n",
              "      <td>Rabale</td>\n",
              "      <td>Airport</td>\n",
              "      <td>15</td>\n",
              "    </tr>\n",
              "    <tr>\n",
              "      <th>765</th>\n",
              "      <td>Kalyan</td>\n",
              "      <td>Airport</td>\n",
              "      <td>14</td>\n",
              "    </tr>\n",
              "    <tr>\n",
              "      <th>1530</th>\n",
              "      <td>Vashi</td>\n",
              "      <td>Airport</td>\n",
              "      <td>14</td>\n",
              "    </tr>\n",
              "    <tr>\n",
              "      <th>836</th>\n",
              "      <td>Kasheli</td>\n",
              "      <td>Airport</td>\n",
              "      <td>13</td>\n",
              "    </tr>\n",
              "    <tr>\n",
              "      <th>1297</th>\n",
              "      <td>Powai</td>\n",
              "      <td>Airport</td>\n",
              "      <td>12</td>\n",
              "    </tr>\n",
              "    <tr>\n",
              "      <th>1343</th>\n",
              "      <td>Purna</td>\n",
              "      <td>Airport</td>\n",
              "      <td>11</td>\n",
              "    </tr>\n",
              "    <tr>\n",
              "      <th>502</th>\n",
              "      <td>Dombivli</td>\n",
              "      <td>Airport</td>\n",
              "      <td>11</td>\n",
              "    </tr>\n",
              "    <tr>\n",
              "      <th>234</th>\n",
              "      <td>Bandra West</td>\n",
              "      <td>Airport</td>\n",
              "      <td>9</td>\n",
              "    </tr>\n",
              "    <tr>\n",
              "      <th>611</th>\n",
              "      <td>Goregaon West</td>\n",
              "      <td>Airport</td>\n",
              "      <td>7</td>\n",
              "    </tr>\n",
              "  </tbody>\n",
              "</table>\n",
              "</div>"
            ],
            "text/plain": [
              "         pickup_loc drop_loc  order_id\n",
              "1171          Nerul  Airport        18\n",
              "1378         Rabale  Airport        15\n",
              "765          Kalyan  Airport        14\n",
              "1530          Vashi  Airport        14\n",
              "836         Kasheli  Airport        13\n",
              "1297          Powai  Airport        12\n",
              "1343          Purna  Airport        11\n",
              "502        Dombivli  Airport        11\n",
              "234     Bandra West  Airport         9\n",
              "611   Goregaon West  Airport         7"
            ]
          },
          "metadata": {
            "tags": []
          },
          "execution_count": 101
        }
      ]
    },
    {
      "cell_type": "markdown",
      "metadata": {
        "id": "XcRx4Ivi0Rns",
        "colab_type": "text"
      },
      "source": [
        "There are the pickup locations from where maximum number of rides to Airport has been cancelled."
      ]
    },
    {
      "cell_type": "code",
      "metadata": {
        "id": "pYa_qsbkqnjz",
        "colab_type": "code",
        "colab": {}
      },
      "source": [
        "cancelled_trip_max_duration = cancelled_trips.groupby(['pickup_loc', 'drop_loc'])['travel_distance'].median().reset_index().sort_values(by = \"travel_distance\", ascending = False)"
      ],
      "execution_count": 0,
      "outputs": []
    },
    {
      "cell_type": "code",
      "metadata": {
        "id": "o75ddN_iqTzW",
        "colab_type": "code",
        "outputId": "b974bf81-2102-41ec-d4cf-b3ee6d6fe18e",
        "colab": {
          "base_uri": "https://localhost:8080/",
          "height": 377
        }
      },
      "source": [
        "cancelled_trip_max_duration[cancelled_trip_max_duration['drop_loc'] == 'Airport'].head(10).plot.bar(x='pickup_loc', y= 'travel_distance', rot=90, color = 'orange')"
      ],
      "execution_count": 81,
      "outputs": [
        {
          "output_type": "execute_result",
          "data": {
            "text/plain": [
              "<matplotlib.axes._subplots.AxesSubplot at 0x7f8cdc07fda0>"
            ]
          },
          "metadata": {
            "tags": []
          },
          "execution_count": 81
        },
        {
          "output_type": "display_data",
          "data": {
            "image/png": "[encoded data removed]",
            "text/plain": [
              "<Figure size 432x288 with 1 Axes>"
            ]
          },
          "metadata": {
            "tags": []
          }
        }
      ]
    },
    {
      "cell_type": "markdown",
      "metadata": {
        "id": "2jms_ZLD0hSi",
        "colab_type": "text"
      },
      "source": [
        "There are the farthest locations from the Airport those are cancelled. "
      ]
    },
    {
      "cell_type": "code",
      "metadata": {
        "id": "O7oh8pPv0rmg",
        "colab_type": "code",
        "colab": {
          "base_uri": "https://localhost:8080/",
          "height": 52
        },
        "outputId": "70c66188-5768-4794-c90c-05e063e9dc38"
      },
      "source": [
        "# # Completed trips to airport\n",
        "# completed_trips_to_airport = completed_trips[completed_trips['drop_loc'] == \"Airport\"]\n",
        "# print(\"Total completed trips to airport :\" + str(len(completed_trips_to_airport)))\n",
        "# completed_trips_where_max_cancellation = completed_trips_to_airport[completed_trips_to_airport['pickup_loc'].isin(pickup_locations_for_airport_with_max_cancellation)]\n",
        "# print(\"Total completed trips to airport where maximum cancellation happened :\" + str(len(completed_trips_where_max_cancellation)))"
      ],
      "execution_count": 109,
      "outputs": [
        {
          "output_type": "stream",
          "text": [
            "Total completed trips to airport :502\n",
            "Total completed trips to airport where maximum cancellation happened :197\n"
          ],
          "name": "stdout"
        }
      ]
    },
    {
      "cell_type": "code",
      "metadata": {
        "id": "4OfAYm1VUP0H",
        "colab_type": "code",
        "colab": {}
      },
      "source": [
        "# other_completed_trips = completed_trips_to_airport[~completed_trips_to_airport['pickup_loc'].isin(pickup_locations_for_airport_with_max_cancellation)]\n",
        "# other_completed_trips"
      ],
      "execution_count": 0,
      "outputs": []
    }
  ]
}